{
 "cells": [
  {
   "cell_type": "code",
   "execution_count": null,
   "id": "21a3fe2a-d8f5-452b-82f0-4248f18926c7",
   "metadata": {},
   "outputs": [],
   "source": [
    "# !pip install graphviz\n",
    "\n"
   ]
  },
  {
   "cell_type": "code",
   "execution_count": null,
   "id": "98d232d1-0693-4bcb-9494-948984a6bcf0",
   "metadata": {},
   "outputs": [],
   "source": [
    "import math\n",
    "import numpy as np\n",
    "import math\n",
    "import matplotlib.pyplot as plt\n",
    "%matplotlib inline\n",
    "import torch"
   ]
  },
  {
   "cell_type": "code",
   "execution_count": null,
   "id": "c070fddc-5081-4e39-9b48-fddb9512844a",
   "metadata": {},
   "outputs": [],
   "source": [
    "def f(x):\n",
    "    return 3*x**2 - 4*x + 5"
   ]
  },
  {
   "cell_type": "code",
   "execution_count": null,
   "id": "68d0aa81-53a0-43ea-836d-6f1b515faab6",
   "metadata": {},
   "outputs": [],
   "source": [
    "xs = np.arange(-5, 5, 0.25)\n",
    "ys = f(xs)"
   ]
  },
  {
   "cell_type": "code",
   "execution_count": null,
   "id": "abc050b5-7f25-4bdb-a73c-a8c2dc77cd8f",
   "metadata": {},
   "outputs": [],
   "source": [
    "plt.plot(xs, ys)"
   ]
  },
  {
   "cell_type": "code",
   "execution_count": null,
   "id": "da62c5f1-2266-40df-bcd5-16f1ad9f91a9",
   "metadata": {},
   "outputs": [],
   "source": [
    "h = 0.000001\n",
    "x = 2/3\n",
    "(f(x+h) - f(x))/h\n"
   ]
  },
  {
   "cell_type": "code",
   "execution_count": null,
   "id": "b3019016-6848-4ef7-ac1e-8d63fb8a1eed",
   "metadata": {},
   "outputs": [],
   "source": [
    "a = 2.0\n",
    "b = -3.0\n",
    "c = 10.0\n",
    "d = a*b+c\n",
    "print(d)\n"
   ]
  },
  {
   "cell_type": "code",
   "execution_count": null,
   "id": "5abf6ac4-d585-4bb8-9e7b-200f2effdcc3",
   "metadata": {},
   "outputs": [],
   "source": [
    "h = 0.0001\n",
    "a = 2.0\n",
    "b = -3.0\n",
    "c = 10.0\n",
    "\n",
    "d1 = a*b + c\n",
    "a += h\n",
    "d2 = a*b + c\n",
    "\n",
    "print('d1', d1)\n",
    "print('d2', d2)\n",
    "print('slope', (d2 - d1)/h)\n"
   ]
  },
  {
   "cell_type": "code",
   "execution_count": null,
   "id": "88184e8b-cbf3-465b-89c1-b35ffa0378ca",
   "metadata": {},
   "outputs": [],
   "source": [
    "class Value:\n",
    "    def __init__(self, data, _children=(), _op='', label = ''):\n",
    "        self.data = data\n",
    "        self.grad = 0.0\n",
    "        self._backward = lambda: None\n",
    "        self._prev = set( _children)\n",
    "        self._op = _op\n",
    "        self.label = label\n",
    "\n",
    "    def __repr__(self):\n",
    "        return f\"Value(data={self.data})\"\n",
    "\n",
    "    def __add__(self, other):\n",
    "        other = other if isinstance(other, Value) else Value(other)\n",
    "        out = Value(self.data + other.data, (self, other), '+')       \n",
    "        def _backward():\n",
    "            self.grad += 1.0 * out.grad\n",
    "            other.grad += 1.0 * out.grad\n",
    "        out._backward = _backward\n",
    "        return out\n",
    "        \n",
    "    def __radd__(self, other):\n",
    "        return self + other\n",
    "    \n",
    "    def __mul__(self, other):\n",
    "        other = other if isinstance(other, Value) else Value(other)\n",
    "        out = Value(self.data * other.data, (self, other), '*')\n",
    "        def _backward():\n",
    "            self.grad += other.data * out.grad\n",
    "            other.grad += self.data * out.grad\n",
    "        out._backward = _backward\n",
    "        return out\n",
    "\n",
    "    def __pow__(self, other):\n",
    "        assert isinstance(other, (int, float)), 'currently only supports int and float powers'\n",
    "        out = Value(self.data**other, (self,), f'**{other}')\n",
    "        def _backward():\n",
    "            self.grad += other * (self.data ** (other - 1)) * out.grad\n",
    "        out._backward = _backward\n",
    "        return out \n",
    "\n",
    "    def __rmul__(self, other):\n",
    "        return self * other\n",
    "        \n",
    "    def __truediv__(self, other):\n",
    "        return self * other**-1\n",
    "    \n",
    "    def __neg__(self):\n",
    "        return self * -1\n",
    "\n",
    "    def __sub__(self, other):\n",
    "        return self + (-other)\n",
    "    \n",
    "    def tanh(self):\n",
    "        x = self.data\n",
    "        t = (math.exp(2*x) - 1)/(math.exp(2*x) + 1)\n",
    "        out = Value(t, (self, ), 'tanh')\n",
    "        \n",
    "        def _backward():\n",
    "            self.grad += (1 - t**2) * out.grad\n",
    "        out._backward = _backward\n",
    "        \n",
    "        return out\n",
    "\n",
    "    def exp(self):\n",
    "        x = self.data\n",
    "        out = Value(math.exp(x), (self, ), 'exp')\n",
    "        \n",
    "        def _backward():\n",
    "            self.grad += out.data * out.grad\n",
    "        out._backward = _backward\n",
    "        return out\n",
    "        \n",
    "    \n",
    "    def backward(self):\n",
    "        topo = []\n",
    "        visited = set()\n",
    "        def build_topo(v):\n",
    "            if v not in visited:\n",
    "                visited.add(v)\n",
    "                for child in v._prev:\n",
    "                    build_topo(child)\n",
    "                topo.append(v)\n",
    "        build_topo(self)\n",
    "        \n",
    "        self.grad = 1.0\n",
    "        for node in reversed(topo):\n",
    "            node._backward()"
   ]
  },
  {
   "cell_type": "code",
   "execution_count": null,
   "id": "73fd8763-490a-403a-a500-5bea916d23a7",
   "metadata": {},
   "outputs": [],
   "source": [
    "a = Value(2.0)\n",
    "b = Value(4.0)\n",
    "a - b"
   ]
  },
  {
   "cell_type": "code",
   "execution_count": null,
   "id": "b5fbacef-3eba-4acd-a2a4-2a3902563646",
   "metadata": {},
   "outputs": [],
   "source": [
    "# from graphviz import Digraph\n",
    "\n",
    "# def trace(root):\n",
    "#     nodes, edges = set(), set()\n",
    "#     def build(v):\n",
    "#         if v not in nodes:\n",
    "#             nodes.add(v)\n",
    "#             for child in v._prev:\n",
    "#                 edges.add((child, v))\n",
    "#                 build(child)\n",
    "#     build(root)\n",
    "#     return nodes, edges\n",
    "    \n",
    "# def draw_dot(root):\n",
    "#     dot = Digraph(format = 'svg', graph_attr={'rankdir': 'LR'})  \n",
    "#     nodes, edges = trace(root)\n",
    "#     for n in nodes:\n",
    "#         uid = str(id(n))\n",
    "#         dot.node(name = uid, label = \"{ %s | data %.4f | grad %.4f }\" % (n.label, n.data, n.grad), shape='record')\n",
    "#         if n._op:\n",
    "#             dot.node(name= uid + n._op, label = n._op)\n",
    "#             dot.edge(uid + n._op, uid)\n",
    "#     for n1, n2 in edges:\n",
    "#         dot.edge(str(id(n1)), str(id(n2)) +n2._op)\n",
    "        \n",
    "#     return dot"
   ]
  },
  {
   "cell_type": "code",
   "execution_count": null,
   "id": "e55883eb-00a0-42b7-9648-db7a07a7c547",
   "metadata": {},
   "outputs": [],
   "source": [
    "# inputs x1, x2:\n",
    "x1 = Value(2.0, label='x1')\n",
    "x2 = Value(0.0, label='x2')\n",
    "# weights ws1, w2:\n",
    "w1 = Value(-3.0, label='w1')\n",
    "w2 = Value(1.0, label='w2')\n",
    "# bias of the neuron:\n",
    "b = Value(6.88137355870195432 , label='b')\n",
    "# x1w1 + x2w2 + b:\n",
    "x1w1 = x1*w1; x1w1.label = 'x1*w1'\n",
    "x2w2 = x2*w2; x2w2.label = 'x2*w2'\n",
    "x1w1x2w2 = x1w1 + x2w2; x1w1x2w2.label = 'x1*w1 + x2*w2'\n",
    "n = x1w1x2w2 + b; n.label = 'n'\n",
    "\n",
    "o = n.tanh(); o.label = 'output'\n",
    "o.backward()"
   ]
  },
  {
   "cell_type": "code",
   "execution_count": null,
   "id": "5dd34a0f-5191-469d-843b-b340599f2b46",
   "metadata": {},
   "outputs": [],
   "source": [
    "# draw_dot(o)\n"
   ]
  },
  {
   "cell_type": "code",
   "execution_count": null,
   "id": "9a322859-bf44-486e-9402-9d2d21ab63c6",
   "metadata": {},
   "outputs": [],
   "source": [
    "# inputs x1, x2:\n",
    "x1 = Value(2.0, label='x1')\n",
    "x2 = Value(0.0, label='x2')\n",
    "# weights ws1, w2:\n",
    "w1 = Value(-3.0, label='w1')\n",
    "w2 = Value(1.0, label='w2')\n",
    "# bias of the neuron:\n",
    "b = Value(6.88137355870195432 , label='b')\n",
    "# x1w1 + x2w2 + b:\n",
    "x1w1 = x1*w1; x1w1.label = 'x1*w1'\n",
    "x2w2 = x2*w2; x2w2.label = 'x2*w2'\n",
    "x1w1x2w2 = x1w1 + x2w2; x1w1x2w2.label = 'x1*w1 + x2*w2'\n",
    "n = x1w1x2w2 + b; n.label = 'n'\n",
    "\n",
    "# --------- \n",
    "e = (2*n).exp()\n",
    "o = (e-1)/(e+1)\n",
    "# ----------\n",
    "o.label = 'output'\n",
    "o.backward()\n",
    "# draw_dot(o)"
   ]
  },
  {
   "cell_type": "code",
   "execution_count": null,
   "id": "c30bd611-5b91-4a8e-aff5-6ab40f282a2b",
   "metadata": {},
   "outputs": [],
   "source": [
    "\n",
    "topo = []\n",
    "visited = set()\n",
    "def build_topo(v):\n",
    "    if v not in visited:\n",
    "        visited.add(v)\n",
    "        for child in v._prev:\n",
    "            build_topo(child)\n",
    "        topo.append(v)\n",
    "build_topo(o)\n",
    "\n",
    "for node in reversed(topo):\n",
    "    node._backward"
   ]
  },
  {
   "cell_type": "code",
   "execution_count": null,
   "id": "8d8a58a5-00bc-4325-bbaa-af276175a3a6",
   "metadata": {},
   "outputs": [],
   "source": [
    "# draw_dot(o)"
   ]
  },
  {
   "cell_type": "code",
   "execution_count": null,
   "id": "a069bcbf-caa1-47ae-bbd7-1c607d275a65",
   "metadata": {},
   "outputs": [],
   "source": [
    "a = Value(3.0, label='a')\n",
    "b = a + a; b.label = 'b'\n",
    "b.backward()\n",
    "# draw_dot(b)"
   ]
  },
  {
   "cell_type": "code",
   "execution_count": null,
   "id": "cb1473b6-70e9-40d9-b77c-cfaf35497031",
   "metadata": {},
   "outputs": [],
   "source": [
    "a = Value(-2.0, label = 'a')\n",
    "b = Value(3.0, label = 'b')\n",
    "d= a * b; d.label = 'd'\n",
    "e = a + b; e.label = 'e'\n",
    "f = d * e; f.label = 'f'\n",
    "\n",
    "f.backward()\n",
    "\n",
    "# draw_dot(f)"
   ]
  },
  {
   "cell_type": "code",
   "execution_count": null,
   "id": "ee3f3f3c-fc2e-4677-9379-bf7911124d78",
   "metadata": {},
   "outputs": [],
   "source": []
  },
  {
   "cell_type": "code",
   "execution_count": null,
   "id": "83df091d-bffc-44ac-8817-62bd6a3e932e",
   "metadata": {},
   "outputs": [],
   "source": []
  },
  {
   "cell_type": "code",
   "execution_count": null,
   "id": "72cf6a88-9b75-4d2e-a9dc-381ecb755814",
   "metadata": {},
   "outputs": [],
   "source": [
    "import torch\n",
    "\n",
    "\n",
    "x1 = torch.Tensor([2.0]).double() ; x1.requires_grad=True\n",
    "x2 = torch.Tensor([0.0]).double() ; x2.requires_grad=True\n",
    "w1 = torch.Tensor([-3.0]).double() ; w1.requires_grad=True\n",
    "w2 = torch.Tensor([1.0]).double() ; w2.requires_grad=True\n",
    "b = torch.Tensor([6.8813735870195432]).double() ; b.requires_grad=True\n",
    "n = x1*w1 + x2*w2 + b\n",
    "o = torch.tanh(n)\n",
    "\n",
    "print(o.data.item())\n",
    "o.backward()\n",
    "\n",
    "print('-----')\n",
    "print('gradients:')\n",
    "print('x2', x2.grad.item())\n",
    "print('w2', w2.grad.item())\n",
    "print('x1', x1.grad.item())\n",
    "print('w1', w1.grad.item())\n",
    "print('\\n\\n')\n",
    "\n",
    "\n",
    "\n",
    "\n"
   ]
  },
  {
   "cell_type": "code",
   "execution_count": null,
   "id": "2afebf08-ca3a-404e-b400-8fcf73b15a75",
   "metadata": {},
   "outputs": [],
   "source": [
    "torch.Tensor([[1,2,3],[4,5,6]])"
   ]
  },
  {
   "cell_type": "code",
   "execution_count": null,
   "id": "7b9de98f-96ce-45fa-abb7-fcb1857fd211",
   "metadata": {},
   "outputs": [],
   "source": [
    "o.item()"
   ]
  },
  {
   "cell_type": "code",
   "execution_count": null,
   "id": "ad8f4abe-ea9d-4e59-b4cd-1351b1e988f9",
   "metadata": {},
   "outputs": [],
   "source": []
  },
  {
   "cell_type": "code",
   "execution_count": null,
   "id": "7147f836-246a-49bc-81da-92b6de501a44",
   "metadata": {},
   "outputs": [],
   "source": [
    "class Neuron:\n",
    "    \n",
    "    def __init__(self, nin):\n",
    "        self.w = [Value(np.random.uniform(-1,1)) for _ in range(nin)]\n",
    "        self.b = Value(np.random.uniform(-1, 1))\n",
    "        \n",
    "    def __call__(self, x):\n",
    "        # w * x + b\n",
    "        act = sum((wi*xi for wi, xi in zip(self.w, x)), self.b)\n",
    "        out = act.tanh()\n",
    "        return out\n",
    "        \n",
    "    def parameters(self):\n",
    "        return self.w + [self.b]\n",
    "        # returns parameters list, named the same as pytorch version\n",
    "        \n",
    "class Layer:\n",
    "    def __init__(self, nin, nout):\n",
    "        self.neurons = [Neuron(nin) for _ in range(nout)]\n",
    "    def __call__(self, x):\n",
    "        outs = [n(x) for n in self.neurons]\n",
    "        return outs[0] if len(outs) == 1 else outs\n",
    "        \n",
    "    def parameters(self):\n",
    "        return [p for neuron in self.neurons for p in neuron.parameters()]\n",
    "\n",
    "# above list replaces:\n",
    "    # def parameters(self):\n",
    "    #     params = []\n",
    "    #     for neuron in self.neurons:\n",
    "    #         ps = neuron.parameters()\n",
    "    #         params.extend(ps)\n",
    "    #     return params\n",
    "\n",
    "\n",
    "class MLP:\n",
    "    def __init__(self, nin, nouts):\n",
    "        sz = [nin] + nouts\n",
    "        self.layers = [Layer(sz[i], sz[i+1]) for i in range(len(nouts))]\n",
    "    def __call__(self, x):\n",
    "        for layer in self.layers:\n",
    "            x = layer(x)\n",
    "        return x\n",
    "    def parameters(self):\n",
    "        return [p for layer in self.layers for p in layer.parameters()]\n",
    "\n"
   ]
  },
  {
   "cell_type": "code",
   "execution_count": null,
   "id": "49aa9f4c-adb6-4f43-a7e0-85fd364b0ceb",
   "metadata": {},
   "outputs": [],
   "source": [
    "# init tiny net\n",
    "\n",
    "x = [2.0, 3.0, -1.0]\n",
    "n = MLP(3,[4, 4, 1])\n",
    "n(x), n(x).data\n"
   ]
  },
  {
   "cell_type": "code",
   "execution_count": null,
   "id": "094f5ae0-ce4e-4a11-acc2-f06268c6c09f",
   "metadata": {},
   "outputs": [],
   "source": [
    "n.parameters()"
   ]
  },
  {
   "cell_type": "code",
   "execution_count": null,
   "id": "34c34cbd-3b60-45bc-9c3b-6a7237e739e7",
   "metadata": {},
   "outputs": [],
   "source": [
    "xs= [\n",
    "    [2.0, 3.0, -1.0],\n",
    "    [3.0, -1.0, 0.5],\n",
    "    [0.5, 1.0, 1.0],\n",
    "    [1.0, 1.0, -1.0],\n",
    "]\n",
    "\n",
    "ys = [1.0, -1.0, -1.0, 1.0]\n"
   ]
  },
  {
   "cell_type": "code",
   "execution_count": null,
   "id": "faea71e2-5648-456f-9154-5779eed4a96f",
   "metadata": {},
   "outputs": [],
   "source": [
    "ypred = [n(x) for x in xs]\n",
    "loss = sum([(yout - ygt)**2 for ygt, yout in zip(ys, ypred)])\n",
    "loss"
   ]
  },
  {
   "cell_type": "code",
   "execution_count": null,
   "id": "99e124c7-1788-401e-bf8a-dd9cca675f7f",
   "metadata": {},
   "outputs": [],
   "source": [
    "for p in n.parameters():\n",
    "    p.data += -0.01 * p.grad"
   ]
  },
  {
   "cell_type": "code",
   "execution_count": null,
   "id": "c6a9a79d-273f-4997-9e44-b0dd87ae21d7",
   "metadata": {},
   "outputs": [],
   "source": [
    "# y prediction loss:  y ground truth and y output \n",
    "# predicted output minus ground truth, squared\n",
    "#  final loss is sum of losses, ie sum of all (pred-truth)**2 \n",
    "\n",
    "ypred = [n(x) for x in xs]\n",
    "loss = sum([(yout - ygt)**2 for ygt, yout in zip(ys, ypred)])\n",
    "loss"
   ]
  },
  {
   "cell_type": "code",
   "execution_count": null,
   "id": "634fe0e3-425e-428b-b0e4-da8894997d7d",
   "metadata": {},
   "outputs": [],
   "source": [
    "loss.backward()"
   ]
  },
  {
   "cell_type": "code",
   "execution_count": null,
   "id": "5c627851-a9aa-4525-8d6c-3f3d9cb9fa2a",
   "metadata": {},
   "outputs": [],
   "source": [
    "# the effect of this node on the loss\n",
    "\n",
    "n.layers[0].neurons[0].w[0].grad"
   ]
  },
  {
   "cell_type": "code",
   "execution_count": null,
   "id": "7d54b654-3e53-4d16-8dbf-5e19eba9ca6e",
   "metadata": {},
   "outputs": [],
   "source": [
    "for p in n.parameters():\n",
    "    p.data += -0.01 * p.grad"
   ]
  },
  {
   "cell_type": "code",
   "execution_count": null,
   "id": "fdcf7e13-4653-4b6d-b220-f330022f594e",
   "metadata": {},
   "outputs": [],
   "source": [
    "ypred"
   ]
  },
  {
   "cell_type": "code",
   "execution_count": null,
   "id": "3d0eedfd-eda0-414f-bb50-dace0718ec1a",
   "metadata": {},
   "outputs": [],
   "source": [
    "n.parameters()\n"
   ]
  },
  {
   "cell_type": "code",
   "execution_count": null,
   "id": "19b32617-2e8f-40cb-8877-e62c590154a8",
   "metadata": {},
   "outputs": [],
   "source": [
    "for p in n.parameters():\n",
    "    p.data += -0.01 * p.grad"
   ]
  },
  {
   "cell_type": "code",
   "execution_count": null,
   "id": "f14a164f-06ea-4fe9-bdba-efb25a95828d",
   "metadata": {
    "scrolled": true
   },
   "outputs": [],
   "source": [
    "n.parameters()"
   ]
  },
  {
   "cell_type": "code",
   "execution_count": null,
   "id": "5cf858e9-413a-4655-98a5-d525b77dac02",
   "metadata": {},
   "outputs": [],
   "source": []
  },
  {
   "cell_type": "code",
   "execution_count": null,
   "id": "65daebbe-d638-425e-a927-c393b446e816",
   "metadata": {},
   "outputs": [],
   "source": []
  },
  {
   "cell_type": "code",
   "execution_count": null,
   "id": "42caaabe-fd0b-44e0-8dea-2b7ba0ba37b1",
   "metadata": {},
   "outputs": [],
   "source": [
    "loss.data\n",
    "\n",
    "    "
   ]
  },
  {
   "cell_type": "code",
   "execution_count": null,
   "id": "e671fd93-8343-4830-b9f2-4626397ae5ae",
   "metadata": {},
   "outputs": [],
   "source": []
  },
  {
   "cell_type": "code",
   "execution_count": null,
   "id": "18a1c27b-dffd-4408-a4b8-3822cf394210",
   "metadata": {},
   "outputs": [],
   "source": [
    "for k in range(20):\n",
    "\n",
    "    # forward\n",
    "    ypred =[n(x) for x in xs]\n",
    "    loss = sum((yout -ygt)**2 for ygt, yout in zip(ys, ypred))\n",
    "\n",
    "    for p in n.parameters():\n",
    "        p.grad = 0\n",
    "    loss.backward()\n",
    "    \n",
    "    for p in n.parameters():\n",
    "        p.data += -0.08 * p.grad\n",
    "    \n",
    "    print(k, loss.data)\n"
   ]
  },
  {
   "cell_type": "code",
   "execution_count": null,
   "id": "0ffad309-cb7e-47f0-9e41-40b857ec9d6c",
   "metadata": {},
   "outputs": [],
   "source": [
    "for k in range(20):\n",
    "\n",
    "    # forward pass\n",
    "    ypred =[n(x) for x in xs]\n",
    "    loss = sum((yout -ygt)**2 for ygt, yout in zip(ys, ypred))\n",
    "\n",
    "    # backward pass\n",
    "    for p in n.parameters():\n",
    "        p.grad = 0\n",
    "    loss.backward()\n",
    "    \n",
    "    for p in n.parameters():\n",
    "        p.data += -0.08 * p.grad\n",
    "    \n",
    "    print(k, loss.data)\n"
   ]
  },
  {
   "cell_type": "code",
   "execution_count": null,
   "id": "7876c266-a1b9-4d5c-ac06-904d421934dd",
   "metadata": {},
   "outputs": [],
   "source": []
  },
  {
   "cell_type": "code",
   "execution_count": null,
   "id": "e037f6aa-646f-4610-9a03-ab63b7669103",
   "metadata": {},
   "outputs": [],
   "source": []
  },
  {
   "cell_type": "code",
   "execution_count": null,
   "id": "586724ea-c368-4791-afa2-59bed7cc1292",
   "metadata": {},
   "outputs": [],
   "source": []
  },
  {
   "cell_type": "code",
   "execution_count": null,
   "id": "c9485ae9-7d02-4683-af52-8e9e35e689dd",
   "metadata": {},
   "outputs": [],
   "source": []
  }
 ],
 "metadata": {
  "kernelspec": {
   "display_name": "python3 repeti (venv)",
   "language": "python",
   "name": "venv"
  },
  "language_info": {
   "codemirror_mode": {
    "name": "ipython",
    "version": 3
   },
   "file_extension": ".py",
   "mimetype": "text/x-python",
   "name": "python",
   "nbconvert_exporter": "python",
   "pygments_lexer": "ipython3",
   "version": "3.12.7"
  }
 },
 "nbformat": 4,
 "nbformat_minor": 5
}
